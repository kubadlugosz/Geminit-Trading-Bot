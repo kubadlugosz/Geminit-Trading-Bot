{
 "cells": [
  {
   "cell_type": "code",
   "execution_count": 2,
   "metadata": {},
   "outputs": [
    {
     "ename": "ModuleNotFoundError",
     "evalue": "No module named 'ccxt'",
     "output_type": "error",
     "traceback": [
      "\u001b[1;31m---------------------------------------------------------------------------\u001b[0m",
      "\u001b[1;31mModuleNotFoundError\u001b[0m                       Traceback (most recent call last)",
      "\u001b[1;32m<ipython-input-2-f96587efdde8>\u001b[0m in \u001b[0;36m<module>\u001b[1;34m\u001b[0m\n\u001b[1;32m----> 1\u001b[1;33m \u001b[1;32mimport\u001b[0m \u001b[0mccxt\u001b[0m\u001b[1;33m\u001b[0m\u001b[1;33m\u001b[0m\u001b[0m\n\u001b[0m\u001b[0;32m      2\u001b[0m \u001b[1;32mimport\u001b[0m \u001b[0mpandas\u001b[0m \u001b[1;32mas\u001b[0m \u001b[0mpd\u001b[0m\u001b[1;33m\u001b[0m\u001b[1;33m\u001b[0m\u001b[0m\n",
      "\u001b[1;31mModuleNotFoundError\u001b[0m: No module named 'ccxt'"
     ]
    }
   ],
   "source": [
    "import ccxt\n",
    "import pandas as pd"
   ]
  },
  {
   "cell_type": "code",
   "execution_count": null,
   "metadata": {},
   "outputs": [],
   "source": [
    "# connect to the following exchange and set test net to true for sandbox mode\n",
    "\n",
    "gemini = ccxt.gemini({\n",
    "    'enableRateLimit': True,\n",
    "    'apiKey': \n",
    "    'secret': \n",
    "})\n",
    "gemini.set_sandbox_mode(True)"
   ]
  },
  {
   "cell_type": "code",
   "execution_count": null,
   "metadata": {},
   "outputs": [
    {
     "data": {
      "text/plain": [
       "{'info': [{'type': 'exchange',\n",
       "   'currency': 'USD',\n",
       "   'amount': '100000.00',\n",
       "   'available': '100000.00',\n",
       "   'availableForWithdrawal': '100000.00'},\n",
       "  {'type': 'exchange',\n",
       "   'currency': 'BTC',\n",
       "   'amount': '1000',\n",
       "   'available': '1000',\n",
       "   'availableForWithdrawal': '1000'},\n",
       "  {'type': 'exchange',\n",
       "   'currency': 'LTC',\n",
       "   'amount': '20000',\n",
       "   'available': '20000',\n",
       "   'availableForWithdrawal': '20000'},\n",
       "  {'type': 'exchange',\n",
       "   'currency': 'ZEC',\n",
       "   'amount': '20000',\n",
       "   'available': '20000',\n",
       "   'availableForWithdrawal': '20000'},\n",
       "  {'type': 'exchange',\n",
       "   'currency': 'BCH',\n",
       "   'amount': '20000',\n",
       "   'available': '20000',\n",
       "   'availableForWithdrawal': '20000'},\n",
       "  {'type': 'exchange',\n",
       "   'currency': 'ETH',\n",
       "   'amount': '20000',\n",
       "   'available': '20000',\n",
       "   'availableForWithdrawal': '20000'}],\n",
       " 'USD': {'free': 100000.0, 'used': 0.0, 'total': 100000.0},\n",
       " 'BTC': {'free': 1000.0, 'used': 0.0, 'total': 1000.0},\n",
       " 'LTC': {'free': 20000.0, 'used': 0.0, 'total': 20000.0},\n",
       " 'ZEC': {'free': 20000.0, 'used': 0.0, 'total': 20000.0},\n",
       " 'BCH': {'free': 20000.0, 'used': 0.0, 'total': 20000.0},\n",
       " 'ETH': {'free': 20000.0, 'used': 0.0, 'total': 20000.0},\n",
       " 'free': {'USD': 100000.0,\n",
       "  'BTC': 1000.0,\n",
       "  'LTC': 20000.0,\n",
       "  'ZEC': 20000.0,\n",
       "  'BCH': 20000.0,\n",
       "  'ETH': 20000.0},\n",
       " 'used': {'USD': 0.0,\n",
       "  'BTC': 0.0,\n",
       "  'LTC': 0.0,\n",
       "  'ZEC': 0.0,\n",
       "  'BCH': 0.0,\n",
       "  'ETH': 0.0},\n",
       " 'total': {'USD': 100000.0,\n",
       "  'BTC': 1000.0,\n",
       "  'LTC': 20000.0,\n",
       "  'ZEC': 20000.0,\n",
       "  'BCH': 20000.0,\n",
       "  'ETH': 20000.0}}"
      ]
     },
     "execution_count": 68,
     "metadata": {},
     "output_type": "execute_result"
    }
   ],
   "source": [
    "gemini.fetch_balance() # get the account balance"
   ]
  },
  {
   "cell_type": "code",
   "execution_count": null,
   "metadata": {},
   "outputs": [],
   "source": [
    "symbol = 'BTC/USD'\n",
    "time = '15m'\n",
    "def getData(symbol,time):\n",
    "    \"\"\"\n",
    "    1504541580000, // UTC timestamp in milliseconds, integer\n",
    "    4235.4,        // (O)pen price, float\n",
    "    4240.6,        // (H)ighest price, float\n",
    "    4230.0,        // (L)owest price, float\n",
    "    4230.7,        // (C)losing price, float\n",
    "    37.72941911    // (V)olume float (usually in terms of the base currency, the exchanges docstring may list whether quote or base units are used)\n",
    "    \"\"\"\n",
    "    columns = ['Date','Open','High Price','Low Price','Close','Volume']\n",
    "    df = pd.DataFrame(gemini.fetch_ohlcv(symbol=symbol,timeframe=time), columns=columns)\n",
    "    df['Date'] = pd.to_datetime(df['Date'], unit='ms')\n",
    "    return df"
   ]
  },
  {
   "cell_type": "code",
   "execution_count": null,
   "metadata": {},
   "outputs": [],
   "source": [
    "df = getData(symbol,time)"
   ]
  },
  {
   "cell_type": "code",
   "execution_count": null,
   "metadata": {},
   "outputs": [
    {
     "data": {
      "text/html": [
       "<div>\n",
       "<style scoped>\n",
       "    .dataframe tbody tr th:only-of-type {\n",
       "        vertical-align: middle;\n",
       "    }\n",
       "\n",
       "    .dataframe tbody tr th {\n",
       "        vertical-align: top;\n",
       "    }\n",
       "\n",
       "    .dataframe thead th {\n",
       "        text-align: right;\n",
       "    }\n",
       "</style>\n",
       "<table border=\"1\" class=\"dataframe\">\n",
       "  <thead>\n",
       "    <tr style=\"text-align: right;\">\n",
       "      <th></th>\n",
       "      <th>Date</th>\n",
       "      <th>Open</th>\n",
       "      <th>High Price</th>\n",
       "      <th>Low Price</th>\n",
       "      <th>Close</th>\n",
       "      <th>Volume</th>\n",
       "      <th>Change</th>\n",
       "      <th>Gain</th>\n",
       "      <th>Loss</th>\n",
       "      <th>Avg_Gain</th>\n",
       "      <th>Avg_Loss</th>\n",
       "      <th>RS</th>\n",
       "      <th>RSI</th>\n",
       "    </tr>\n",
       "  </thead>\n",
       "  <tbody>\n",
       "    <tr>\n",
       "      <th>1</th>\n",
       "      <td>2022-07-30 21:00:00</td>\n",
       "      <td>24693.20</td>\n",
       "      <td>24693.20</td>\n",
       "      <td>24668.53</td>\n",
       "      <td>24693.20</td>\n",
       "      <td>13.609637</td>\n",
       "      <td>0.0</td>\n",
       "      <td>0.0</td>\n",
       "      <td>0.0</td>\n",
       "      <td>NaN</td>\n",
       "      <td>NaN</td>\n",
       "      <td>NaN</td>\n",
       "      <td>NaN</td>\n",
       "    </tr>\n",
       "    <tr>\n",
       "      <th>2</th>\n",
       "      <td>2022-07-30 21:15:00</td>\n",
       "      <td>24693.20</td>\n",
       "      <td>24693.20</td>\n",
       "      <td>24668.53</td>\n",
       "      <td>24693.20</td>\n",
       "      <td>13.609637</td>\n",
       "      <td>0.0</td>\n",
       "      <td>0.0</td>\n",
       "      <td>0.0</td>\n",
       "      <td>NaN</td>\n",
       "      <td>NaN</td>\n",
       "      <td>NaN</td>\n",
       "      <td>NaN</td>\n",
       "    </tr>\n",
       "    <tr>\n",
       "      <th>3</th>\n",
       "      <td>2022-07-30 21:30:00</td>\n",
       "      <td>24693.20</td>\n",
       "      <td>24693.20</td>\n",
       "      <td>24668.53</td>\n",
       "      <td>24693.20</td>\n",
       "      <td>13.609231</td>\n",
       "      <td>0.0</td>\n",
       "      <td>0.0</td>\n",
       "      <td>0.0</td>\n",
       "      <td>NaN</td>\n",
       "      <td>NaN</td>\n",
       "      <td>NaN</td>\n",
       "      <td>NaN</td>\n",
       "    </tr>\n",
       "    <tr>\n",
       "      <th>4</th>\n",
       "      <td>2022-07-30 21:45:00</td>\n",
       "      <td>24693.20</td>\n",
       "      <td>24693.20</td>\n",
       "      <td>24668.53</td>\n",
       "      <td>24693.20</td>\n",
       "      <td>12.718218</td>\n",
       "      <td>0.0</td>\n",
       "      <td>0.0</td>\n",
       "      <td>0.0</td>\n",
       "      <td>NaN</td>\n",
       "      <td>NaN</td>\n",
       "      <td>NaN</td>\n",
       "      <td>NaN</td>\n",
       "    </tr>\n",
       "    <tr>\n",
       "      <th>5</th>\n",
       "      <td>2022-07-30 22:00:00</td>\n",
       "      <td>24693.20</td>\n",
       "      <td>24693.20</td>\n",
       "      <td>24668.53</td>\n",
       "      <td>24693.20</td>\n",
       "      <td>13.609231</td>\n",
       "      <td>0.0</td>\n",
       "      <td>0.0</td>\n",
       "      <td>0.0</td>\n",
       "      <td>NaN</td>\n",
       "      <td>NaN</td>\n",
       "      <td>NaN</td>\n",
       "      <td>NaN</td>\n",
       "    </tr>\n",
       "    <tr>\n",
       "      <th>...</th>\n",
       "      <td>...</td>\n",
       "      <td>...</td>\n",
       "      <td>...</td>\n",
       "      <td>...</td>\n",
       "      <td>...</td>\n",
       "      <td>...</td>\n",
       "      <td>...</td>\n",
       "      <td>...</td>\n",
       "      <td>...</td>\n",
       "      <td>...</td>\n",
       "      <td>...</td>\n",
       "      <td>...</td>\n",
       "      <td>...</td>\n",
       "    </tr>\n",
       "    <tr>\n",
       "      <th>1340</th>\n",
       "      <td>2022-08-13 19:45:00</td>\n",
       "      <td>25095.99</td>\n",
       "      <td>25121.09</td>\n",
       "      <td>25095.99</td>\n",
       "      <td>25095.99</td>\n",
       "      <td>13.377424</td>\n",
       "      <td>0.0</td>\n",
       "      <td>0.0</td>\n",
       "      <td>0.0</td>\n",
       "      <td>5.378571</td>\n",
       "      <td>5.378571</td>\n",
       "      <td>1.000000</td>\n",
       "      <td>50.000000</td>\n",
       "    </tr>\n",
       "    <tr>\n",
       "      <th>1341</th>\n",
       "      <td>2022-08-13 20:00:00</td>\n",
       "      <td>25095.99</td>\n",
       "      <td>25121.09</td>\n",
       "      <td>25095.99</td>\n",
       "      <td>25121.09</td>\n",
       "      <td>13.377424</td>\n",
       "      <td>25.1</td>\n",
       "      <td>25.1</td>\n",
       "      <td>0.0</td>\n",
       "      <td>7.171429</td>\n",
       "      <td>5.378571</td>\n",
       "      <td>1.333333</td>\n",
       "      <td>57.142857</td>\n",
       "    </tr>\n",
       "    <tr>\n",
       "      <th>1342</th>\n",
       "      <td>2022-08-13 20:15:00</td>\n",
       "      <td>25121.09</td>\n",
       "      <td>25121.09</td>\n",
       "      <td>25095.99</td>\n",
       "      <td>25095.99</td>\n",
       "      <td>13.457118</td>\n",
       "      <td>-25.1</td>\n",
       "      <td>0.0</td>\n",
       "      <td>25.1</td>\n",
       "      <td>5.378571</td>\n",
       "      <td>7.171429</td>\n",
       "      <td>0.750000</td>\n",
       "      <td>42.857143</td>\n",
       "    </tr>\n",
       "    <tr>\n",
       "      <th>1343</th>\n",
       "      <td>2022-08-13 20:30:00</td>\n",
       "      <td>25095.99</td>\n",
       "      <td>25121.09</td>\n",
       "      <td>25095.99</td>\n",
       "      <td>25121.09</td>\n",
       "      <td>12.979353</td>\n",
       "      <td>25.1</td>\n",
       "      <td>25.1</td>\n",
       "      <td>0.0</td>\n",
       "      <td>7.171429</td>\n",
       "      <td>5.378571</td>\n",
       "      <td>1.333333</td>\n",
       "      <td>57.142857</td>\n",
       "    </tr>\n",
       "    <tr>\n",
       "      <th>1344</th>\n",
       "      <td>2022-08-13 20:45:00</td>\n",
       "      <td>25121.09</td>\n",
       "      <td>25121.09</td>\n",
       "      <td>25095.99</td>\n",
       "      <td>25095.99</td>\n",
       "      <td>4.379580</td>\n",
       "      <td>-25.1</td>\n",
       "      <td>0.0</td>\n",
       "      <td>25.1</td>\n",
       "      <td>7.171429</td>\n",
       "      <td>7.171429</td>\n",
       "      <td>1.000000</td>\n",
       "      <td>50.000000</td>\n",
       "    </tr>\n",
       "  </tbody>\n",
       "</table>\n",
       "<p>1344 rows × 13 columns</p>\n",
       "</div>"
      ],
      "text/plain": [
       "                    Date      Open  High Price  Low Price     Close  \\\n",
       "1    2022-07-30 21:00:00  24693.20    24693.20   24668.53  24693.20   \n",
       "2    2022-07-30 21:15:00  24693.20    24693.20   24668.53  24693.20   \n",
       "3    2022-07-30 21:30:00  24693.20    24693.20   24668.53  24693.20   \n",
       "4    2022-07-30 21:45:00  24693.20    24693.20   24668.53  24693.20   \n",
       "5    2022-07-30 22:00:00  24693.20    24693.20   24668.53  24693.20   \n",
       "...                  ...       ...         ...        ...       ...   \n",
       "1340 2022-08-13 19:45:00  25095.99    25121.09   25095.99  25095.99   \n",
       "1341 2022-08-13 20:00:00  25095.99    25121.09   25095.99  25121.09   \n",
       "1342 2022-08-13 20:15:00  25121.09    25121.09   25095.99  25095.99   \n",
       "1343 2022-08-13 20:30:00  25095.99    25121.09   25095.99  25121.09   \n",
       "1344 2022-08-13 20:45:00  25121.09    25121.09   25095.99  25095.99   \n",
       "\n",
       "         Volume  Change  Gain  Loss  Avg_Gain  Avg_Loss        RS        RSI  \n",
       "1     13.609637     0.0   0.0   0.0       NaN       NaN       NaN        NaN  \n",
       "2     13.609637     0.0   0.0   0.0       NaN       NaN       NaN        NaN  \n",
       "3     13.609231     0.0   0.0   0.0       NaN       NaN       NaN        NaN  \n",
       "4     12.718218     0.0   0.0   0.0       NaN       NaN       NaN        NaN  \n",
       "5     13.609231     0.0   0.0   0.0       NaN       NaN       NaN        NaN  \n",
       "...         ...     ...   ...   ...       ...       ...       ...        ...  \n",
       "1340  13.377424     0.0   0.0   0.0  5.378571  5.378571  1.000000  50.000000  \n",
       "1341  13.377424    25.1  25.1   0.0  7.171429  5.378571  1.333333  57.142857  \n",
       "1342  13.457118   -25.1   0.0  25.1  5.378571  7.171429  0.750000  42.857143  \n",
       "1343  12.979353    25.1  25.1   0.0  7.171429  5.378571  1.333333  57.142857  \n",
       "1344   4.379580   -25.1   0.0  25.1  7.171429  7.171429  1.000000  50.000000  \n",
       "\n",
       "[1344 rows x 13 columns]"
      ]
     },
     "execution_count": 71,
     "metadata": {},
     "output_type": "execute_result"
    }
   ],
   "source": [
    "df['Change'] = df['Close'].diff(1)\n",
    "df.dropna(inplace=True)\n",
    "df['Gain'] = [x if x > 0 else 0 for x in df['Change']]\n",
    "df['Loss'] = [x *-1 if x < 0 else 0 for x in df['Change']]\n",
    "df['Avg_Gain'] = df['Gain'].rolling(window=14).mean()\n",
    "df['Avg_Loss'] = df['Loss'].rolling(window=14).mean()\n",
    "df['RS'] = df['Avg_Gain']/df['Avg_Loss']\n",
    "df['RSI'] = 100 - 100/(1 + df['RS'])\n",
    "df"
   ]
  },
  {
   "cell_type": "code",
   "execution_count": null,
   "metadata": {},
   "outputs": [
    {
     "data": {
      "text/plain": [
       "ccxt.phemex()"
      ]
     },
     "execution_count": 7,
     "metadata": {},
     "output_type": "execute_result"
    }
   ],
   "source": [
    "import ccxt\n",
    "import pandas as pd\n",
    "binance_t = ccxt.phemex()\n",
    "binance_t"
   ]
  },
  {
   "cell_type": "code",
   "execution_count": null,
   "metadata": {},
   "outputs": [],
   "source": [
    "binance_t.set_sandbox_mode(True) "
   ]
  },
  {
   "cell_type": "code",
   "execution_count": null,
   "metadata": {},
   "outputs": [],
   "source": []
  },
  {
   "cell_type": "code",
   "execution_count": null,
   "metadata": {},
   "outputs": [],
   "source": [
    "binance_t.apiKey = api_key\n",
    "binance_t.secret = secret_key"
   ]
  },
  {
   "cell_type": "code",
   "execution_count": null,
   "metadata": {},
   "outputs": [
    {
     "data": {
      "text/plain": [
       "{'info': {'code': '0',\n",
       "  'msg': '',\n",
       "  'data': [{'currency': 'BTC',\n",
       "    'balanceEv': '51513688',\n",
       "    'lockedTradingBalanceEv': '0',\n",
       "    'lockedWithdrawEv': '0',\n",
       "    'lastUpdateTimeNs': '1660622127574728401',\n",
       "    'walletVid': '0'},\n",
       "   {'currency': 'USDT',\n",
       "    'balanceEv': '463486044656',\n",
       "    'lockedTradingBalanceEv': '0',\n",
       "    'lockedWithdrawEv': '0',\n",
       "    'lastUpdateTimeNs': '1660622153190461862',\n",
       "    'walletVid': '0'}]},\n",
       " 'BTC': {'free': 0.51513688, 'used': 0.0, 'total': 0.51513688},\n",
       " 'USDT': {'free': 4634.86044656, 'used': 0.0, 'total': 4634.86044656},\n",
       " 'timestamp': 1660622153190,\n",
       " 'datetime': '2022-08-16T03:55:53.190Z',\n",
       " 'free': {'BTC': 0.51513688, 'USDT': 4634.86044656},\n",
       " 'used': {'BTC': 0.0, 'USDT': 0.0},\n",
       " 'total': {'BTC': 0.51513688, 'USDT': 4634.86044656}}"
      ]
     },
     "execution_count": 12,
     "metadata": {},
     "output_type": "execute_result"
    }
   ],
   "source": [
    "binance_t.fetchBalance()"
   ]
  },
  {
   "cell_type": "code",
   "execution_count": null,
   "metadata": {},
   "outputs": [
    {
     "data": {
      "text/plain": [
       "{'info': {'orderID': 'dcf2e5f2-8f32-471a-a0a7-389079511694',\n",
       "  'clOrdID': 'ccxt20226e23d95273415730',\n",
       "  'stopPxEp': '0',\n",
       "  'avgPriceEp': '2402247000000',\n",
       "  'qtyType': 'ByBase',\n",
       "  'leavesBaseQtyEv': '0',\n",
       "  'leavesQuoteQtyEv': '0',\n",
       "  'baseQtyEv': '416400',\n",
       "  'feeCurrency': 'BTC',\n",
       "  'stopDirection': 'UNSPECIFIED',\n",
       "  'symbol': 'sBTCUSDT',\n",
       "  'side': 'Buy',\n",
       "  'quoteQtyEv': '10999913880',\n",
       "  'priceEp': '2641670000000',\n",
       "  'ordType': 'Market',\n",
       "  'timeInForce': 'ImmediateOrCancel',\n",
       "  'ordStatus': 'Filled',\n",
       "  'execStatus': 'TakerFill',\n",
       "  'createTimeNs': '1660624920061723812',\n",
       "  'cumFeeEv': '334',\n",
       "  'cumBaseValueEv': '416400',\n",
       "  'cumQuoteValueEv': '10002956508',\n",
       "  'avgTransactPriceEp': '0',\n",
       "  'spotOrderDetailsVos': None},\n",
       " 'id': 'dcf2e5f2-8f32-471a-a0a7-389079511694',\n",
       " 'clientOrderId': 'ccxt20226e23d95273415730',\n",
       " 'timestamp': 1660624920061,\n",
       " 'datetime': '2022-08-16T04:42:00.061Z',\n",
       " 'lastTradeTimestamp': None,\n",
       " 'symbol': 'BTC/USDT',\n",
       " 'type': 'market',\n",
       " 'timeInForce': 'IOC',\n",
       " 'postOnly': False,\n",
       " 'side': 'buy',\n",
       " 'price': 26416.7,\n",
       " 'stopPrice': None,\n",
       " 'amount': 0.004164,\n",
       " 'cost': 100.02956508,\n",
       " 'average': 24022.47,\n",
       " 'filled': 0.004164,\n",
       " 'remaining': 0.0,\n",
       " 'status': 'closed',\n",
       " 'fee': {'cost': 3.34e-06, 'currency': None},\n",
       " 'trades': [],\n",
       " 'fees': [{'cost': 3.34e-06, 'currency': None}]}"
      ]
     },
     "execution_count": 65,
     "metadata": {},
     "output_type": "execute_result"
    }
   ],
   "source": [
    "symbol = 'BTC/USDT'\n",
    "binance_t.fetch_closed_orders(symbol)[-1]"
   ]
  },
  {
   "cell_type": "code",
   "execution_count": null,
   "metadata": {},
   "outputs": [
    {
     "ename": "OrderNotFound",
     "evalue": "phemex {\"code\":10002,\"msg\":\"OM_ORDER_NOT_FOUND\",\"data\":null}",
     "output_type": "error",
     "traceback": [
      "\u001b[0;31m---------------------------------------------------------------------------\u001b[0m",
      "\u001b[0;31mOrderNotFound\u001b[0m                             Traceback (most recent call last)",
      "\u001b[1;32m/home/jakub/Python-Projects/Gemini-Trading/Trading-Bot.ipynb Cell 13\u001b[0m in \u001b[0;36m<cell line: 3>\u001b[0;34m()\u001b[0m\n\u001b[1;32m      <a href='vscode-notebook-cell:/home/jakub/Python-Projects/Gemini-Trading/Trading-Bot.ipynb#X20sZmlsZQ%3D%3D?line=1'>2</a>\u001b[0m \u001b[39mimport\u001b[39;00m \u001b[39mccxt\u001b[39;00m\u001b[39m.\u001b[39;00m\u001b[39masync_support\u001b[39;00m \u001b[39mas\u001b[39;00m \u001b[39mccxt\u001b[39;00m\n\u001b[1;32m      <a href='vscode-notebook-cell:/home/jakub/Python-Projects/Gemini-Trading/Trading-Bot.ipynb#X20sZmlsZQ%3D%3D?line=2'>3</a>\u001b[0m \u001b[39mif\u001b[39;00m binance_t\u001b[39m.\u001b[39mhas[\u001b[39m'\u001b[39m\u001b[39mfetchOrder\u001b[39m\u001b[39m'\u001b[39m]:\n\u001b[0;32m----> <a href='vscode-notebook-cell:/home/jakub/Python-Projects/Gemini-Trading/Trading-Bot.ipynb#X20sZmlsZQ%3D%3D?line=3'>4</a>\u001b[0m     order \u001b[39m=\u001b[39m asyncio\u001b[39m.\u001b[39mrun(binance_t\u001b[39m.\u001b[39;49mfetch_order(\u001b[39m'\u001b[39;49m\u001b[39ma229bceb-b17e-4d70-b841-9a84f934d1d0\u001b[39;49m\u001b[39m'\u001b[39;49m,symbol\u001b[39m=\u001b[39;49msymbol))\n\u001b[1;32m      <a href='vscode-notebook-cell:/home/jakub/Python-Projects/Gemini-Trading/Trading-Bot.ipynb#X20sZmlsZQ%3D%3D?line=4'>5</a>\u001b[0m     \u001b[39mprint\u001b[39m(order)\n",
      "File \u001b[0;32m~/miniconda3/lib/python3.8/site-packages/ccxt/phemex.py:2143\u001b[0m, in \u001b[0;36mphemex.fetch_order\u001b[0;34m(self, id, symbol, params)\u001b[0m\n\u001b[1;32m   2141\u001b[0m \u001b[39melse\u001b[39;00m:\n\u001b[1;32m   2142\u001b[0m     request[\u001b[39m'\u001b[39m\u001b[39morderID\u001b[39m\u001b[39m'\u001b[39m] \u001b[39m=\u001b[39m \u001b[39mid\u001b[39m\n\u001b[0;32m-> 2143\u001b[0m response \u001b[39m=\u001b[39m \u001b[39mgetattr\u001b[39;49m(\u001b[39mself\u001b[39;49m, method)(\u001b[39mself\u001b[39;49m\u001b[39m.\u001b[39;49mextend(request, params))\n\u001b[1;32m   2144\u001b[0m data \u001b[39m=\u001b[39m \u001b[39mself\u001b[39m\u001b[39m.\u001b[39msafe_value(response, \u001b[39m'\u001b[39m\u001b[39mdata\u001b[39m\u001b[39m'\u001b[39m, {})\n\u001b[1;32m   2145\u001b[0m order \u001b[39m=\u001b[39m data\n",
      "File \u001b[0;32m~/miniconda3/lib/python3.8/site-packages/ccxt/base/exchange.py:500\u001b[0m, in \u001b[0;36mExchange.define_rest_api_endpoint.<locals>.partialer.<locals>.inner\u001b[0;34m(_self, params, context)\u001b[0m\n\u001b[1;32m    498\u001b[0m \u001b[39mif\u001b[39;00m context \u001b[39mis\u001b[39;00m \u001b[39mnot\u001b[39;00m \u001b[39mNone\u001b[39;00m:\n\u001b[1;32m    499\u001b[0m     inner_kwargs[\u001b[39m'\u001b[39m\u001b[39mcontext\u001b[39m\u001b[39m'\u001b[39m] \u001b[39m=\u001b[39m params\n\u001b[0;32m--> 500\u001b[0m \u001b[39mreturn\u001b[39;00m entry(_self, \u001b[39m*\u001b[39;49m\u001b[39m*\u001b[39;49minner_kwargs)\n",
      "File \u001b[0;32m~/miniconda3/lib/python3.8/site-packages/ccxt/base/exchange.py:2627\u001b[0m, in \u001b[0;36mExchange.request\u001b[0;34m(self, path, api, method, params, headers, body, config, context)\u001b[0m\n\u001b[1;32m   2626\u001b[0m \u001b[39mdef\u001b[39;00m \u001b[39mrequest\u001b[39m(\u001b[39mself\u001b[39m, path, api\u001b[39m=\u001b[39m\u001b[39m'\u001b[39m\u001b[39mpublic\u001b[39m\u001b[39m'\u001b[39m, method\u001b[39m=\u001b[39m\u001b[39m'\u001b[39m\u001b[39mGET\u001b[39m\u001b[39m'\u001b[39m, params\u001b[39m=\u001b[39m{}, headers\u001b[39m=\u001b[39m\u001b[39mNone\u001b[39;00m, body\u001b[39m=\u001b[39m\u001b[39mNone\u001b[39;00m, config\u001b[39m=\u001b[39m{}, context\u001b[39m=\u001b[39m{}):\n\u001b[0;32m-> 2627\u001b[0m     \u001b[39mreturn\u001b[39;00m \u001b[39mself\u001b[39;49m\u001b[39m.\u001b[39;49mfetch2(path, api, method, params, headers, body, config, context)\n",
      "File \u001b[0;32m~/miniconda3/lib/python3.8/site-packages/ccxt/base/exchange.py:2624\u001b[0m, in \u001b[0;36mExchange.fetch2\u001b[0;34m(self, path, api, method, params, headers, body, config, context)\u001b[0m\n\u001b[1;32m   2622\u001b[0m \u001b[39mself\u001b[39m\u001b[39m.\u001b[39mlastRestRequestTimestamp \u001b[39m=\u001b[39m \u001b[39mself\u001b[39m\u001b[39m.\u001b[39mmilliseconds()\n\u001b[1;32m   2623\u001b[0m request \u001b[39m=\u001b[39m \u001b[39mself\u001b[39m\u001b[39m.\u001b[39msign(path, api, method, params, headers, body)\n\u001b[0;32m-> 2624\u001b[0m \u001b[39mreturn\u001b[39;00m \u001b[39mself\u001b[39;49m\u001b[39m.\u001b[39;49mfetch(request[\u001b[39m'\u001b[39;49m\u001b[39murl\u001b[39;49m\u001b[39m'\u001b[39;49m], request[\u001b[39m'\u001b[39;49m\u001b[39mmethod\u001b[39;49m\u001b[39m'\u001b[39;49m], request[\u001b[39m'\u001b[39;49m\u001b[39mheaders\u001b[39;49m\u001b[39m'\u001b[39;49m], request[\u001b[39m'\u001b[39;49m\u001b[39mbody\u001b[39;49m\u001b[39m'\u001b[39;49m])\n",
      "File \u001b[0;32m~/miniconda3/lib/python3.8/site-packages/ccxt/base/exchange.py:662\u001b[0m, in \u001b[0;36mExchange.fetch\u001b[0;34m(self, url, method, headers, body)\u001b[0m\n\u001b[1;32m    659\u001b[0m     \u001b[39melse\u001b[39;00m:\n\u001b[1;32m    660\u001b[0m         \u001b[39mraise\u001b[39;00m ExchangeError(details) \u001b[39mfrom\u001b[39;00m \u001b[39me\u001b[39;00m\n\u001b[0;32m--> 662\u001b[0m \u001b[39mself\u001b[39;49m\u001b[39m.\u001b[39;49mhandle_errors(http_status_code, http_status_text, url, method, headers, http_response, json_response, request_headers, request_body)\n\u001b[1;32m    663\u001b[0m \u001b[39mif\u001b[39;00m json_response \u001b[39mis\u001b[39;00m \u001b[39mnot\u001b[39;00m \u001b[39mNone\u001b[39;00m:\n\u001b[1;32m    664\u001b[0m     \u001b[39mreturn\u001b[39;00m json_response\n",
      "File \u001b[0;32m~/miniconda3/lib/python3.8/site-packages/ccxt/phemex.py:3415\u001b[0m, in \u001b[0;36mphemex.handle_errors\u001b[0;34m(self, httpCode, reason, url, method, headers, body, response, requestHeaders, requestBody)\u001b[0m\n\u001b[1;32m   3413\u001b[0m \u001b[39mif\u001b[39;00m (errorCode \u001b[39mis\u001b[39;00m \u001b[39mnot\u001b[39;00m \u001b[39mNone\u001b[39;00m) \u001b[39mand\u001b[39;00m (errorCode \u001b[39m!=\u001b[39m \u001b[39m'\u001b[39m\u001b[39m0\u001b[39m\u001b[39m'\u001b[39m):\n\u001b[1;32m   3414\u001b[0m     feedback \u001b[39m=\u001b[39m \u001b[39mself\u001b[39m\u001b[39m.\u001b[39mid \u001b[39m+\u001b[39m \u001b[39m'\u001b[39m\u001b[39m \u001b[39m\u001b[39m'\u001b[39m \u001b[39m+\u001b[39m body\n\u001b[0;32m-> 3415\u001b[0m     \u001b[39mself\u001b[39;49m\u001b[39m.\u001b[39;49mthrow_exactly_matched_exception(\u001b[39mself\u001b[39;49m\u001b[39m.\u001b[39;49mexceptions[\u001b[39m'\u001b[39;49m\u001b[39mexact\u001b[39;49m\u001b[39m'\u001b[39;49m], errorCode, feedback)\n\u001b[1;32m   3416\u001b[0m     \u001b[39mself\u001b[39m\u001b[39m.\u001b[39mthrow_broadly_matched_exception(\u001b[39mself\u001b[39m\u001b[39m.\u001b[39mexceptions[\u001b[39m'\u001b[39m\u001b[39mbroad\u001b[39m\u001b[39m'\u001b[39m], message, feedback)\n\u001b[1;32m   3417\u001b[0m     \u001b[39mraise\u001b[39;00m ExchangeError(feedback)\n",
      "File \u001b[0;32m~/miniconda3/lib/python3.8/site-packages/ccxt/base/exchange.py:2867\u001b[0m, in \u001b[0;36mExchange.throw_exactly_matched_exception\u001b[0;34m(self, exact, string, message)\u001b[0m\n\u001b[1;32m   2865\u001b[0m \u001b[39mdef\u001b[39;00m \u001b[39mthrow_exactly_matched_exception\u001b[39m(\u001b[39mself\u001b[39m, exact, string, message):\n\u001b[1;32m   2866\u001b[0m     \u001b[39mif\u001b[39;00m string \u001b[39min\u001b[39;00m exact:\n\u001b[0;32m-> 2867\u001b[0m         \u001b[39mraise\u001b[39;00m exact[string](message)\n",
      "\u001b[0;31mOrderNotFound\u001b[0m: phemex {\"code\":10002,\"msg\":\"OM_ORDER_NOT_FOUND\",\"data\":null}"
     ]
    }
   ],
   "source": [
    "\n",
    "import asyncio\n",
    "import ccxt.async_support as ccxt\n",
    "if binance_t.has['fetchOrder']:\n",
    "    order = asyncio.run(binance_t.fetch_order('a229bceb-b17e-4d70-b841-9a84f934d1d0',symbol=symbol))\n",
    "    print(order)\n"
   ]
  },
  {
   "cell_type": "code",
   "execution_count": null,
   "metadata": {},
   "outputs": [
    {
     "ename": "TypeError",
     "evalue": "fetch_orders() got an unexpected keyword argument 'id'",
     "output_type": "error",
     "traceback": [
      "\u001b[0;31m---------------------------------------------------------------------------\u001b[0m",
      "\u001b[0;31mTypeError\u001b[0m                                 Traceback (most recent call last)",
      "\u001b[1;32m/home/jakub/Python-Projects/Gemini-Trading/Trading-Bot.ipynb Cell 13\u001b[0m in \u001b[0;36m<cell line: 1>\u001b[0;34m()\u001b[0m\n\u001b[0;32m----> <a href='vscode-notebook-cell:/home/jakub/Python-Projects/Gemini-Trading/Trading-Bot.ipynb#X15sZmlsZQ%3D%3D?line=0'>1</a>\u001b[0m orders \u001b[39m=\u001b[39m binance_t\u001b[39m.\u001b[39;49mfetch_orders(symbol\u001b[39m=\u001b[39;49msymbol,\u001b[39mid\u001b[39;49m\u001b[39m=\u001b[39;49m\u001b[39m'\u001b[39;49m\u001b[39ma229bceb-b17e-4d70-b841-9a84f934d1d0\u001b[39;49m\u001b[39m'\u001b[39;49m)\n\u001b[1;32m      <a href='vscode-notebook-cell:/home/jakub/Python-Projects/Gemini-Trading/Trading-Bot.ipynb#X15sZmlsZQ%3D%3D?line=1'>2</a>\u001b[0m \u001b[39mprint\u001b[39m(orders)\n",
      "\u001b[0;31mTypeError\u001b[0m: fetch_orders() got an unexpected keyword argument 'id'"
     ]
    }
   ],
   "source": [
    "orders = binance_t.fetch_orders(symbol=symbol,id='a229bceb-b17e-4d70-b841-9a84f934d1d0')\n",
    "print(orders)\n",
    "\n"
   ]
  }
 ],
 "metadata": {
  "kernelspec": {
   "display_name": "Python 3.6.13 ('deep-learning')",
   "language": "python",
   "name": "python3"
  },
  "language_info": {
   "codemirror_mode": {
    "name": "ipython",
    "version": 3
   },
   "file_extension": ".py",
   "mimetype": "text/x-python",
   "name": "python",
   "nbconvert_exporter": "python",
   "pygments_lexer": "ipython3",
   "version": "3.6.13"
  },
  "orig_nbformat": 4,
  "vscode": {
   "interpreter": {
    "hash": "bae447a52fbb024448c59b663f346d9cc396081227ac47b231da5ccc0183c168"
   }
  }
 },
 "nbformat": 4,
 "nbformat_minor": 2
}
